{
 "cells": [
  {
   "cell_type": "markdown",
   "id": "48f510f7",
   "metadata": {},
   "source": [
    "## The goal of this case study is to develop a sentiment analysis model that classifies movie reviews as positive or negative using a Long Short-Term Memory (LSTM) neural network. Sentiment analysis is a common Natural Language Processing (NLP) task that helps in understanding the emotional tone behind a series of words.\n",
    "\n",
    "### Dataset:\n",
    "The IMDB movie reviews dataset is a popular dataset for binary sentiment classification. It contains 50,000 movie reviews from the IMDB website, divided into 25,000 reviews for training and 25,000 reviews for testing. Each review is labeled as either positive or negative.\n",
    "\n",
    "### Load and Preprocess the Data"
   ]
  },
  {
   "cell_type": "code",
   "execution_count": 1,
   "id": "faa78f1c",
   "metadata": {},
   "outputs": [],
   "source": [
    "#Load and Preprocess the Data\n",
    "import tensorflow as tf\n",
    "from tensorflow.keras.preprocessing import sequence\n",
    "from tensorflow.keras.datasets import imdb\n",
    "from tensorflow.keras.models import Sequential\n",
    "from tensorflow.keras.layers import Embedding, LSTM, Dense\n",
    "import matplotlib.pyplot as plt\n",
    "from sklearn.model_selection import RandomizedSearchCV\n",
    "from tensorflow.keras.wrappers.scikit_learn import KerasClassifier\n",
    "from tensorflow.keras.utils import plot_model\n",
    "\n",
    "# Parameters\n",
    "max_features = 10000  # Number of words to consider as features\n",
    "maxlen = 500  # Cut texts after this number of words\n",
    "\n",
    "# Load the IMDB dataset\n",
    "(x_train, y_train), (x_test, y_test) = imdb.load_data(num_words=max_features)\n",
    "\n",
    "# Pad sequences to ensure uniform input size\n",
    "x_train = sequence.pad_sequences(x_train, maxlen=maxlen)\n",
    "x_test = sequence.pad_sequences(x_test, maxlen=maxlen)\n"
   ]
  },
  {
   "cell_type": "markdown",
   "id": "206124b2",
   "metadata": {},
   "source": [
    "## Visualize the Data\n"
   ]
  },
  {
   "cell_type": "code",
   "execution_count": 2,
   "id": "6504b5c1",
   "metadata": {},
   "outputs": [
    {
     "data": {
      "image/png": "[encoded data removed]",
      "text/plain": [
       "<Figure size 432x288 with 1 Axes>"
      ]
     },
     "metadata": {
      "needs_background": "light"
     },
     "output_type": "display_data"
    }
   ],
   "source": [
    "import matplotlib.pyplot as plt\n",
    "\n",
    "# Visualize the distribution of review lengths\n",
    "plt.hist([len(x) for x in x_train], bins=50)\n",
    "plt.xlabel('Length of Review')\n",
    "plt.ylabel('Number of Reviews')\n",
    "plt.title('Distribution of Review Lengths')\n",
    "plt.show()\n"
   ]
  },
  {
   "cell_type": "raw",
   "id": "73540adb",
   "metadata": {},
   "source": [
    "\n",
    "pip install wordcloud --trusted-host pypi.org --trusted-host files.pythonhosted.org pydot"
   ]
  },
  {
   "cell_type": "markdown",
   "id": "07d43e8d",
   "metadata": {},
   "source": [
    "## Build the model\n",
    "\n",
    "\n",
    "- def create_model(embedding_size=128, lstm_units=64): declares a function named create_model with two optional arguments: embedding_size and lstm_units, which determine the dimensions of the embedding layer and LSTM layer respectively.\n",
    "\n",
    "## Model Construction:\n",
    "\n",
    "- **model = Sequential()**: initializes a sequential model, which allows stacking layers sequentially.\n",
    "- **model.add(Embedding(max_features, embedding_size, input_length=maxlen))**:  adds an embedding layer to the model. This layer converts input integer sequences into dense vectors of fixed size (embedding_size), useful for handling text data. max_features represents the size of the vocabulary, and maxlen specifies the maximum length of input sequences.\n",
    "- **model.add(LSTM(lstm_units, dropout=0.2, recurrent_dropout=0.2))**:  adds a Long Short-Term Memory (LSTM) layer to the model. LSTMs are a type of recurrent neural network (RNN) that are capable of learning long-term dependencies in sequential data. The dropout parameter sets the dropout rate for input units, while recurrent_dropout sets the dropout rate for recurrent units, both helping prevent overfitting.\n",
    "- **model.add(Dense(1, activation='sigmoid'))**: adds a dense output layer with a single neuron and a sigmoid activation function. This layer produces binary classification probabilities, with values between 0 and 1.\n",
    "\n",
    "- Model Compilation:**model.compile(loss='binary_crossentropy', optimizer='adam', metrics=['accuracy'])** :compiles the model, specifying the loss function (binary_crossentropy for binary classification), the optimizer (adam), and the evaluation metric (accuracy). This step configures the model for training.\n",
    "\n",
    "\n",
    "\n",
    "### Dropout: \n",
    "In TensorFlow, dropout randomly deactivates a fraction of neurons during training, preventing overfitting by encouraging network robustness. It discourages co-adaptation among neurons, fostering independence and generalization. Dropout acts as a form of ensemble learning, training multiple architectures and combining them during inference. Implementation in TensorFlow involves inserting a dropout layer with a specified dropout rate within the neural network architecture. Its role is vital for improving model performance and preventing overfitting in deep learning tasks.\n",
    "\n",
    "\n",
    "-  This dropout rate is a scalar value representing the fraction of neurons to randomly drop during training. It typically ranges between 0 and 1, where:\n",
    "\n",
    "- 0 means no neurons are dropped, resulting in no regularization effect.\n",
    " - 1 means all neurons are dropped, effectively disabling the network.\n",
    " - Commonly used dropout rates fall between 0.1 and 0.5, although the optimal rate may vary depending on the specific task, dataset, and network architecture."
   ]
  },
  {
   "cell_type": "code",
   "execution_count": 3,
   "id": "b3743bdf",
   "metadata": {},
   "outputs": [],
   "source": [
    "# Build the model\n",
    "def create_model(embedding_size=128, lstm_units=64):\n",
    "    model = Sequential()\n",
    "    model.add(Embedding(max_features, embedding_size, input_length=maxlen))\n",
    "    model.add(LSTM(lstm_units, dropout=0.2, recurrent_dropout=0.2))\n",
    "    model.add(Dense(1, activation='sigmoid'))\n",
    "    model.compile(loss='binary_crossentropy',\n",
    "                  optimizer='adam',\n",
    "                  metrics=['accuracy'])\n",
    "    return model\n",
    "\n",
    "model = create_model()"
   ]
  },
  {
   "cell_type": "code",
   "execution_count": 4,
   "id": "31a6d5f5",
   "metadata": {},
   "outputs": [],
   "source": [
    "# Compile the model\n",
    "model.compile(loss='binary_crossentropy',\n",
    "              optimizer='adam',\n",
    "              metrics=['accuracy'])\n",
    "\n",
    "# Visualize the model architecture\n",
    "#plot_model(model, show_shapes=True)\n",
    "#plt.show()"
   ]
  },
  {
   "cell_type": "markdown",
   "id": "b855a851",
   "metadata": {},
   "source": [
    "#### Windows instructions to see model Architecture\n",
    "- Download the Graphviz installer from the Graphviz download page.\n",
    "- Run the installer and follow the installation instructions.\n",
    "- Add the Graphviz bin directory to your system PATH. Typically, this path is C:\\Program Files (x86)\\GraphvizX.X\\bin.\n",
    "#### MacOS:\n",
    "bash\n",
    "brew install graphviz"
   ]
  },
  {
   "cell_type": "markdown",
   "id": "f1525c8f",
   "metadata": {},
   "source": [
    "## Hyperparameter tuning\n",
    "Hypertuning, is the process of optimizing the hyperparameters of a machine learning model to achieve the best performance. Hyperparameters are settings that govern the training process and model architecture, which are not learned from the data. In the context of text data, hypertuning is particularly important due to the complexity and high dimensionality of textual features. Here’s a detailed explanation of hypertuning with respect to text data:\n",
    "\n",
    "## Key Hyperparameters for Text Data\n",
    "### 1.Vectorization Parameters:\n",
    "\n",
    "- Vocabulary Size: Limits the number of unique words or tokens to consider.\n",
    "- n-gram Range: Specifies the range of n-grams (e.g., unigrams, bigrams) to include.\n",
    "- Max Document Frequency: Filters out words that appear in a high percentage of documents.\n",
    "- Min Document Frequency: Filters out words that appear in a low percentage of documents.\n",
    "\n",
    "### 2. Model Parameters:\n",
    "- Regularization Strength (C or alpha): Controls the degree of regularization applied to avoid overfitting.\n",
    "- Learning Rate: Governs the step size in the gradient descent optimization.\n",
    "- Number of Layers and Units: Determines the depth and width of neural networks.\n",
    "- Dropout Rate: Prevents overfitting by randomly dropping units during training.\n",
    "- Batch Size: Specifies the number of samples processed before the model’s internal parameters are updated.\n",
    "- Number of Epochs: Determines the number of times the learning algorithm will work through the entire training dataset.\n",
    "\n",
    "### 3/ Preprocessing Parameters:\n",
    "\n",
    "- Text Cleaning Options: Choices such as lowercasing, removing punctuation, and stemming/lemmatization.\n",
    "- Tokenization Method: The technique used to split text into tokens (e.g., word-level, character-level).\n",
    "### Hypertuning Techniques\n",
    "- Grid Search:\n",
    "Exhaustively searches through a specified subset of hyperparameters.\n",
    "Example: Testing combinations of n-gram ranges (1,1), (1,2), (1,3) and regularization strengths 0.1, 1, 10.\n",
    "Random Search:\n",
    "\n",
    "- Randomly samples hyperparameter combinations.\n",
    "Can be more efficient than grid search when the search space is large.\n",
    "\n",
    "- Bayesian Optimization:\n",
    "Uses probabilistic models to predict performance and select the next hyperparameter set to try.\n",
    "More efficient than grid and random search as it focuses on the most promising areas of the search space.\n",
    "\n",
    "- Gradient-Based Optimization:\n",
    "Techniques like Hyperband or Population Based Training (PBT) that dynamically allocate resources and adapt hyperparameters during training.\n",
    "\n",
    "### Process of Hypertuning\n",
    "- Define the Hyperparameter Space:\n",
    "\n",
    "- Identify the hyperparameters to tune and their possible values or ranges.\n",
    "- Example for text classification: {'max_features': [1000, 5000, 10000], 'ngram_range': [(1,1), (1,2)], 'alpha': [0.001, 0.01, 0.1, 1]}.\n",
    "- Split the Data:\n",
    "Divide the text data into training, validation, and test sets.\n",
    "Use the training set to train models and the validation set to evaluate hyperparameter combinations.\n",
    "- Search and Evaluate:\n",
    "Use a hypertuning method (e.g., grid search) to train models with different hyperparameter combinations.\n",
    "Evaluate each combination using a performance metric like accuracy, F1 score, or log loss.\n",
    "- Select the Best Hyperparameters:\n",
    "\n",
    "- Choose the hyperparameters that yield the best performance on the validation set.\n",
    "Train a final model on the combined training and validation sets using these hyperparameters.\n",
    "- Test the Final Model:\n",
    "\n",
    "Evaluate the final model on the test set to ensure it generalizes well to unseen data."
   ]
  },
  {
   "cell_type": "raw",
   "id": "09909ced",
   "metadata": {},
   "source": [
    "# Hyperparameter tuning\n",
    "model = KerasClassifier(build_fn=create_model, verbose=0)\n",
    "\n",
    "param_dist = {\n",
    "    'embedding_size': [64, 128],\n",
    "    'lstm_units': [32, 64],\n",
    "    'batch_size': [32],\n",
    "    'epochs': [3]\n",
    "}\n",
    "\n",
    "# Reduce n_iter and cv for faster tuning\n",
    "random_search = RandomizedSearchCV(estimator=model, param_distributions=param_dist, n_iter=2, cv=2, verbose=2, n_jobs=1)\n",
    "\n",
    "# Use a smaller subset of the data for quicker hyperparameter tuning\n",
    "x_train_subset = x_train[:2000]\n",
    "y_train_subset = y_train[:2000]\n",
    "\n",
    "random_search_result = random_search.fit(x_train_subset, y_train_subset)\n",
    "\n",
    "# Print the best parameters\n",
    "print(\"Best parameters found: \", random_search_result.best_params_)"
   ]
  },
  {
   "cell_type": "code",
   "execution_count": null,
   "id": "2c2af847",
   "metadata": {},
   "outputs": [
    {
     "name": "stdout",
     "output_type": "stream",
     "text": [
      "Epoch 1/1000\n",
      " 38/125 [========>.....................] - ETA: 5:59 - loss: 0.6295 - accuracy: 0.6458"
     ]
    }
   ],
   "source": [
    "#  Train the model using the best parameters\n",
    "#best_params = random_search_result.best_params_\n",
    "#model = create_model(embedding_size=best_params['embedding_size'], lstm_units=best_params['lstm_units'])\n",
    "model.fit(x_train, y_train,\n",
    "          #batch_size=best_params['batch_size'],\n",
    "          batch_size = 200,\n",
    "          epochs=1000,\n",
    "          validation_data=(x_test, y_test))"
   ]
  },
  {
   "cell_type": "code",
   "execution_count": null,
   "id": "94ead96f",
   "metadata": {},
   "outputs": [],
   "source": [
    "# Evaluate the model\n",
    "score, acc = model.evaluate(x_test, y_test,\n",
    "                            batch_size=best_params['batch_size'])\n",
    "print('Test score:', score)\n",
    "print('Test accuracy:', acc)"
   ]
  },
  {
   "cell_type": "code",
   "execution_count": null,
   "id": "e45d2317",
   "metadata": {},
   "outputs": [],
   "source": [
    "# Sample new data for prediction\n",
    "new_reviews = [\"This movie was excellent!\", \"The movie was terrible...\"]\n",
    "\n",
    "# Preprocess the new data\n",
    "from tensorflow.keras.preprocessing.text import Tokenizer\n",
    "from tensorflow.keras.preprocessing.sequence import pad_sequences\n",
    "\n",
    "tokenizer = Tokenizer(num_words=max_features)\n",
    "tokenizer.fit_on_texts(new_reviews)\n",
    "new_sequences = tokenizer.texts_to_sequences(new_reviews)\n",
    "new_padded_sequences = pad_sequences(new_sequences, maxlen=maxlen)\n",
    "\n",
    "# Make predictions\n",
    "predictions = model.predict(new_padded_sequences)\n",
    "print(\"Predictions:\", predictions)"
   ]
  }
 ],
 "metadata": {
  "kernelspec": {
   "display_name": "Python 3 (ipykernel)",
   "language": "python",
   "name": "python3"
  },
  "language_info": {
   "codemirror_mode": {
    "name": "ipython",
    "version": 3
   },
   "file_extension": ".py",
   "mimetype": "text/x-python",
   "name": "python",
   "nbconvert_exporter": "python",
   "pygments_lexer": "ipython3",
   "version": "3.9.12"
  }
 },
 "nbformat": 4,
 "nbformat_minor": 5
}
