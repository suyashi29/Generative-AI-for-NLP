{
 "cells": [
  {
   "cell_type": "markdown",
   "id": "ddc458e2",
   "metadata": {},
   "source": [
    "## Sequence Generation:\n",
    "\n",
    "- if the sequence length is 10:\n",
    "\n",
    "- The generated input sequence might be [0, 1, 2, 3, 4, 5, 6, 7, 8].\n",
    "- The RNN model predicts the next number, say 9.5.\n",
    "- The output would be:\n",
    "\n",
    "- Input Sequence: [0 1 2 3 4 5 6 7 8]\n",
    "- Next Number Prediction: 9.5\n",
    "\n",
    "\n",
    "### Example 1"
   ]
  },
  {
   "cell_type": "code",
   "execution_count": 3,
   "id": "3d31d9c4",
   "metadata": {},
   "outputs": [
    {
     "data": {
      "text/plain": [
       "array([ 1,  2,  3,  4,  5,  6,  7,  8,  9, 10, 11, 12, 13, 14, 15, 16, 17,\n",
       "       18, 19, 20, 21, 22, 23, 24, 25, 26, 27, 28, 29, 30])"
      ]
     },
     "execution_count": 3,
     "metadata": {},
     "output_type": "execute_result"
    }
   ],
   "source": [
    "import numpy as np\n",
    "from tensorflow.keras.models import Sequential\n",
    "from tensorflow.keras.layers import SimpleRNN, Dense\n",
    "\n",
    "# Generate a simple sequence of numbers\n",
    "def generate_sequence(length):\n",
    "    return np.array([i for i in range(1, length+1)])\n",
    "\n",
    "# Prepare data\n",
    "sequence_length = 30\n",
    "data = generate_sequence(sequence_length)\n",
    "data"
   ]
  },
  {
   "cell_type": "code",
   "execution_count": 4,
   "id": "fecd52d2",
   "metadata": {},
   "outputs": [
    {
     "name": "stdout",
     "output_type": "stream",
     "text": [
      "First few input sequences (X):\n",
      "[[[1]\n",
      "  [2]\n",
      "  [3]\n",
      "  [4]]\n",
      "\n",
      " [[2]\n",
      "  [3]\n",
      "  [4]\n",
      "  [5]]\n",
      "\n",
      " [[3]\n",
      "  [4]\n",
      "  [5]\n",
      "  [6]]]\n",
      "\n",
      "First few target sequences (y):\n",
      "[[[2]\n",
      "  [3]\n",
      "  [4]\n",
      "  [5]]\n",
      "\n",
      " [[3]\n",
      "  [4]\n",
      "  [5]\n",
      "  [6]]\n",
      "\n",
      " [[4]\n",
      "  [5]\n",
      "  [6]\n",
      "  [7]]]\n"
     ]
    }
   ],
   "source": [
    "# Create input-output pairs\n",
    "X = []\n",
    "y = []\n",
    "for i in range(len(data) - 4):\n",
    "    X.append(data[i:i+4])\n",
    "    y.append(data[i+1:i+5])\n",
    "\n",
    "X = np.array(X).reshape((-1, 4, 1))\n",
    "y = np.array(y).reshape((-1, 4, 1))\n",
    "\n",
    "# Print first few values of X and y\n",
    "print(\"First few input sequences (X):\")\n",
    "print(X[:3])\n",
    "print(\"\\nFirst few target sequences (y):\")\n",
    "print(y[:3])"
   ]
  },
  {
   "cell_type": "code",
   "execution_count": 5,
   "id": "1f371b3c",
   "metadata": {},
   "outputs": [],
   "source": [
    "# Define RNN model\n",
    "model = Sequential()\n",
    "model.add(SimpleRNN(50, activation='relu', input_shape=(4, 1)))\n",
    "model.add(Dense(4))\n",
    "model.compile(optimizer='adam', loss='mse')"
   ]
  },
  {
   "cell_type": "code",
   "execution_count": 6,
   "id": "226ffd60",
   "metadata": {},
   "outputs": [
    {
     "data": {
      "text/plain": [
       "<keras.callbacks.History at 0x288655660a0>"
      ]
     },
     "execution_count": 6,
     "metadata": {},
     "output_type": "execute_result"
    }
   ],
   "source": [
    "# Train the model\n",
    "model.fit(X, y, epochs=300, verbose=0)"
   ]
  },
  {
   "cell_type": "code",
   "execution_count": 11,
   "id": "f1c7df7d",
   "metadata": {},
   "outputs": [],
   "source": [
    "# Generate a new sequence\n",
    "input_sequence = np.array([[20, 21, 22, 23]]).reshape((1, 4, 1))\n",
    "prediction = model.predict(input_sequence, verbose=0)"
   ]
  },
  {
   "cell_type": "code",
   "execution_count": 14,
   "id": "6e56913a",
   "metadata": {},
   "outputs": [
    {
     "name": "stdout",
     "output_type": "stream",
     "text": [
      "\n",
      "Input Sequence (2D format):\n",
      "[[20]\n",
      " [21]\n",
      " [22]\n",
      " [23]]\n"
     ]
    }
   ],
   "source": [
    "# Print input sequence in 2D format\n",
    "print(\"\\nInput Sequence (2D format):\")\n",
    "print(input_sequence.reshape((4, 1)))"
   ]
  },
  {
   "cell_type": "code",
   "execution_count": 15,
   "id": "4698fc3c",
   "metadata": {},
   "outputs": [
    {
     "name": "stdout",
     "output_type": "stream",
     "text": [
      "\n",
      "Next Sequence Prediction:\n",
      "[20.98302  22.027891 23.179502 24.253681]\n"
     ]
    }
   ],
   "source": [
    "# Print the next number prediction\n",
    "print(\"\\nNext Sequence Prediction:\")\n",
    "print(prediction.flatten())\n"
   ]
  },
  {
   "cell_type": "markdown",
   "id": "15336dff",
   "metadata": {},
   "source": [
    "### Example 2\n",
    "### Generate sequences where the output Y is 2x of the input sequence X. \n",
    "- In this case, if X is [1, 2, 3, 4], the corresponding Y would be [2, 4, 6, 8]."
   ]
  },
  {
   "cell_type": "code",
   "execution_count": 16,
   "id": "34d8e8d6",
   "metadata": {},
   "outputs": [
    {
     "name": "stdout",
     "output_type": "stream",
     "text": [
      "First few input sequences (X):\n",
      "[[[1]\n",
      "  [2]\n",
      "  [3]\n",
      "  [4]]\n",
      "\n",
      " [[2]\n",
      "  [3]\n",
      "  [4]\n",
      "  [5]]\n",
      "\n",
      " [[3]\n",
      "  [4]\n",
      "  [5]\n",
      "  [6]]]\n",
      "\n",
      "First few target sequences (y):\n",
      "[[[ 4]\n",
      "  [ 6]\n",
      "  [ 8]\n",
      "  [10]]\n",
      "\n",
      " [[ 6]\n",
      "  [ 8]\n",
      "  [10]\n",
      "  [12]]\n",
      "\n",
      " [[ 8]\n",
      "  [10]\n",
      "  [12]\n",
      "  [14]]]\n"
     ]
    }
   ],
   "source": [
    "import numpy as np\n",
    "from tensorflow.keras.models import Sequential\n",
    "from tensorflow.keras.layers import SimpleRNN, Dense\n",
    "\n",
    "# Generate a simple sequence of numbers\n",
    "def generate_sequence(length):\n",
    "    return np.array([i for i in range(1, length+1)])\n",
    "\n",
    "# Prepare data\n",
    "sequence_length = 30\n",
    "data = generate_sequence(sequence_length)\n",
    "\n",
    "# Create input-output pairs\n",
    "X = []\n",
    "y = []\n",
    "for i in range(len(data) - 4):\n",
    "    X.append(data[i:i+4])\n",
    "    y.append(data[i+1:i+5] * 2)  # Y = 2 * X\n",
    "\n",
    "X = np.array(X).reshape((-1, 4, 1))\n",
    "y = np.array(y).reshape((-1, 4, 1))\n",
    "\n",
    "# Print first few values of X and y\n",
    "print(\"First few input sequences (X):\")\n",
    "print(X[:3])\n",
    "print(\"\\nFirst few target sequences (y):\")\n",
    "print(y[:3])"
   ]
  },
  {
   "cell_type": "code",
   "execution_count": 17,
   "id": "b7f4d4d3",
   "metadata": {},
   "outputs": [
    {
     "data": {
      "text/plain": [
       "<keras.callbacks.History at 0x288668b1e80>"
      ]
     },
     "execution_count": 17,
     "metadata": {},
     "output_type": "execute_result"
    }
   ],
   "source": [
    "\n",
    "# Define RNN model\n",
    "model = Sequential()\n",
    "model.add(SimpleRNN(50, activation='relu', input_shape=(4, 1)))\n",
    "model.add(Dense(4))\n",
    "model.compile(optimizer='adam', loss='mse')\n",
    "\n",
    "# Train the model\n",
    "model.fit(X, y, epochs=300, verbose=0)"
   ]
  },
  {
   "cell_type": "code",
   "execution_count": 23,
   "id": "263a16f7",
   "metadata": {},
   "outputs": [
    {
     "name": "stdout",
     "output_type": "stream",
     "text": [
      "\n",
      "Input Sequence (2D format):\n",
      "[[24]\n",
      " [25]\n",
      " [26]\n",
      " [27]]\n"
     ]
    }
   ],
   "source": [
    "# Generate a new sequence\n",
    "input_sequence = np.array([[24,25,26,27]]).reshape((1, 4, 1))\n",
    "prediction = model.predict(input_sequence, verbose=0)\n",
    "\n",
    "# Print input sequence in 2D format\n",
    "print(\"\\nInput Sequence (2D format):\")\n",
    "print(input_sequence.reshape((4, 1)))"
   ]
  },
  {
   "cell_type": "code",
   "execution_count": 24,
   "id": "d2748dad",
   "metadata": {},
   "outputs": [
    {
     "name": "stdout",
     "output_type": "stream",
     "text": [
      "\n",
      "Next Sequence Prediction (Y = 2X):\n",
      "[49.606647 52.26259  54.81207  57.636036]\n"
     ]
    }
   ],
   "source": [
    "\n",
    "# Print the next number prediction\n",
    "print(\"\\nNext Sequence Prediction (Y = 2X):\")\n",
    "print(prediction.flatten())\n"
   ]
  },
  {
   "cell_type": "markdown",
   "id": "a2e1d47c",
   "metadata": {},
   "source": [
    "### Methods to Improve the prediction accuracy by making several adjustments:\n",
    "\n",
    "- Increase Model Complexity: Adding more layers and units can help the model learn better.\n",
    "- More Training Data: Increasing the sequence length for training can provide the model with more data to learn from.\n",
    "- More Epochs: Training for more epochs can allow the model to converge better.\n",
    "- Adjusting Learning Rate: Using a learning rate scheduler can help in fine-tuning the learning process.\n",
    "\n",
    "\n",
    "## Implemented with code:\n",
    "- Increased Model Complexity: Added another SimpleRNN layer and a Dense layer with more units to increase the model's capacity to learn complex patterns.\n",
    "- More Training Data: Increased the sequence length to provide the model with more data.\n",
    "- More Epochs: Increased the number of epochs to allow the model more time to learn the patterns.\n",
    "- Learning Rate Scheduler: Used ReduceLROnPlateau to adjust the learning rate when the loss plateaus, helping the model to fine-tune better."
   ]
  },
  {
   "cell_type": "code",
   "execution_count": 25,
   "id": "eea29671",
   "metadata": {},
   "outputs": [
    {
     "name": "stdout",
     "output_type": "stream",
     "text": [
      "First few input sequences (X):\n",
      "[[[1]\n",
      "  [2]\n",
      "  [3]\n",
      "  [4]]\n",
      "\n",
      " [[2]\n",
      "  [3]\n",
      "  [4]\n",
      "  [5]]\n",
      "\n",
      " [[3]\n",
      "  [4]\n",
      "  [5]\n",
      "  [6]]]\n",
      "\n",
      "First few target sequences (y):\n",
      "[[[ 4]\n",
      "  [ 6]\n",
      "  [ 8]\n",
      "  [10]]\n",
      "\n",
      " [[ 6]\n",
      "  [ 8]\n",
      "  [10]\n",
      "  [12]]\n",
      "\n",
      " [[ 8]\n",
      "  [10]\n",
      "  [12]\n",
      "  [14]]]\n"
     ]
    }
   ],
   "source": [
    "import numpy as np\n",
    "from tensorflow.keras.models import Sequential\n",
    "from tensorflow.keras.layers import SimpleRNN, Dense\n",
    "from tensorflow.keras.callbacks import ReduceLROnPlateau\n",
    "\n",
    "# Generate a simple sequence of numbers\n",
    "def generate_sequence(length):\n",
    "    return np.array([i for i in range(1, length+1)])\n",
    "\n",
    "# Prepare data\n",
    "sequence_length = 100  # Increase sequence length\n",
    "data = generate_sequence(sequence_length)\n",
    "\n",
    "# Create input-output pairs\n",
    "X = []\n",
    "y = []\n",
    "for i in range(len(data) - 4):\n",
    "    X.append(data[i:i+4])\n",
    "    y.append(data[i+1:i+5] * 2)  # Y = 2 * X\n",
    "\n",
    "X = np.array(X).reshape((-1, 4, 1))\n",
    "y = np.array(y).reshape((-1, 4, 1))\n",
    "\n",
    "# Print first few values of X and y\n",
    "print(\"First few input sequences (X):\")\n",
    "print(X[:3])\n",
    "print(\"\\nFirst few target sequences (y):\")\n",
    "print(y[:3])"
   ]
  },
  {
   "cell_type": "code",
   "execution_count": 26,
   "id": "f6b49843",
   "metadata": {},
   "outputs": [],
   "source": [
    "# Define RNN model\n",
    "model = Sequential()\n",
    "model.add(SimpleRNN(100, activation='relu', input_shape=(4, 1), return_sequences=True))  # Increase units and add return_sequences\n",
    "model.add(SimpleRNN(50, activation='relu'))  # Add another RNN layer\n",
    "model.add(Dense(50, activation='relu'))  # Add a Dense layer with more units\n",
    "model.add(Dense(4))\n",
    "model.compile(optimizer='adam', loss='mse')"
   ]
  },
  {
   "cell_type": "code",
   "execution_count": 27,
   "id": "cc4868e8",
   "metadata": {},
   "outputs": [
    {
     "data": {
      "text/plain": [
       "<keras.callbacks.History at 0x28868ad7970>"
      ]
     },
     "execution_count": 27,
     "metadata": {},
     "output_type": "execute_result"
    }
   ],
   "source": [
    "# Learning rate scheduler\n",
    "reduce_lr = ReduceLROnPlateau(monitor='loss', factor=0.2, patience=5, min_lr=0.001)\n",
    "\n",
    "# Train the model\n",
    "model.fit(X, y, epochs=1000, verbose=0, callbacks=[reduce_lr])  # Increase number of epochs and add learning rate scheduler"
   ]
  },
  {
   "cell_type": "code",
   "execution_count": 28,
   "id": "711a89b1",
   "metadata": {},
   "outputs": [
    {
     "name": "stdout",
     "output_type": "stream",
     "text": [
      "\n",
      "Input Sequence (2D format):\n",
      "[[24]\n",
      " [25]\n",
      " [26]\n",
      " [27]]\n",
      "\n",
      "Next Sequence Prediction (Y = 2X):\n",
      "[49.990376 52.00197  54.007946 55.990585]\n"
     ]
    }
   ],
   "source": [
    "# Generate a new sequence\n",
    "input_sequence = np.array([[24, 25, 26, 27]]).reshape((1, 4, 1))\n",
    "prediction = model.predict(input_sequence, verbose=0)\n",
    "\n",
    "# Print input sequence in 2D format\n",
    "print(\"\\nInput Sequence (2D format):\")\n",
    "print(input_sequence.reshape((4, 1)))\n",
    "\n",
    "# Print the next number prediction\n",
    "print(\"\\nNext Sequence Prediction (Y = 2X):\")\n",
    "print(prediction.flatten())\n"
   ]
  },
  {
   "cell_type": "markdown",
   "id": "fdb5be64",
   "metadata": {},
   "source": [
    "### Example 3 \n",
    "### Predict the sum of the input sequence [1, 2, 3, 4]"
   ]
  },
  {
   "cell_type": "code",
   "execution_count": null,
   "id": "cee38ff6",
   "metadata": {},
   "outputs": [],
   "source": [
    "import numpy as np\n",
    "from tensorflow.keras.models import Sequential\n",
    "from tensorflow.keras.layers import SimpleRNN, Dense\n",
    "from tensorflow.keras.callbacks import ReduceLROnPlateau\n",
    "\n",
    "# Generate a simple sequence of numbers\n",
    "def generate_sequence(length):\n",
    "    return np.array([i for i in range(1, length+1)])\n",
    "\n",
    "# Prepare data\n",
    "sequence_length = 100  # Increase sequence length\n",
    "data = generate_sequence(sequence_length)\n",
    "\n",
    "# Create input-output pairs\n",
    "X = []\n",
    "y = []\n",
    "for i in range(len(data) - 4):\n",
    "    X.append(data[i:i+4])\n",
    "    y.append([np.sum(data[i:i+4])])  # y = sum(X)\n",
    "\n",
    "X = np.array(X).reshape((-1, 4, 1))\n",
    "y = np.array(y)\n",
    "\n",
    "# Print first few values of X and y\n",
    "print(\"First few input sequences (X):\")\n",
    "print(X[:3])\n",
    "print(\"\\nFirst few target sequences (y):\")\n",
    "print(y[:3])\n",
    "\n",
    "# Define RNN model\n",
    "model = Sequential()\n",
    "model.add(SimpleRNN(100, activation='relu', input_shape=(4, 1), return_sequences=False))  # Increase units\n",
    "model.add(Dense(50, activation='relu'))  # Add a Dense layer with more units\n",
    "model.add(Dense(1))\n",
    "model.compile(optimizer='adam', loss='mse')\n",
    "\n",
    "# Learning rate scheduler\n",
    "reduce_lr = ReduceLROnPlateau(monitor='loss', factor=0.2, patience=5, min_lr=0.001)\n",
    "\n",
    "# Train the model\n",
    "model.fit(X, y, epochs=1000, verbose=0, callbacks=[reduce_lr])  # Increase number of epochs and add learning rate scheduler\n",
    "\n",
    "# Generate a new sequence\n",
    "input_sequence = np.array([17, 18, 19, 20]).reshape((1, 4, 1))\n",
    "prediction = model.predict(input_sequence, verbose=0)\n",
    "\n",
    "# Print input sequence in 2D format\n",
    "print(\"\\nInput Sequence (2D format):\")\n",
    "print(input_sequence.reshape((4, 1)))\n",
    "\n",
    "# Print the next number prediction\n",
    "print(\"\\nNext Sequence Sum Prediction (sum(X)):\")\n",
    "print(prediction.flatten()[0])\n"
   ]
  },
  {
   "cell_type": "markdown",
   "id": "8e8243a3",
   "metadata": {},
   "source": [
    "### Example 4: Predicting the Next Number in a Fibonacci Sequence"
   ]
  },
  {
   "cell_type": "code",
   "execution_count": null,
   "id": "1d5c50a4",
   "metadata": {},
   "outputs": [],
   "source": [
    "import numpy as np\n",
    "from tensorflow.keras.models import Sequential\n",
    "from tensorflow.keras.layers import SimpleRNN, Dense\n",
    "\n",
    "# Generate a Fibonacci sequence\n",
    "def generate_fibonacci_sequence(length):\n",
    "    sequence = [0, 1]\n",
    "    for _ in range(length - 2):\n",
    "        sequence.append(sequence[-1] + sequence[-2])\n",
    "    return np.array(sequence)\n",
    "\n",
    "# Prepare data\n",
    "sequence_length = 20  # Length of the sequence\n",
    "data = generate_fibonacci_sequence(sequence_length)\n",
    "\n",
    "# Create input-output pairs\n",
    "X = []\n",
    "y = []\n",
    "for i in range(len(data) - 4):\n",
    "    X.append(data[i:i+4])\n",
    "    y.append(data[i+4])  # Next number in the sequence\n",
    "\n",
    "X = np.array(X).reshape((-1, 4, 1))\n",
    "y = np.array(y)\n",
    "\n",
    "# Define RNN model\n",
    "model = Sequential()\n",
    "model.add(SimpleRNN(50, activation='relu', input_shape=(4, 1)))\n",
    "model.add(Dense(1))\n",
    "model.compile(optimizer='adam', loss='mse')\n",
    "\n",
    "# Train the model\n",
    "model.fit(X, y, epochs=1000, verbose=0)\n",
    "\n",
    "# Generate a new sequence\n",
    "input_sequence = np.array([13, 21, 34, 55]).reshape((1, 4, 1))\n",
    "prediction = model.predict(input_sequence, verbose=0)\n",
    "\n",
    "# Print results\n",
    "print(\"Input Sequence:\", input_sequence.flatten())\n",
    "print(\"Next Number Prediction:\", prediction.flatten()[0])\n"
   ]
  }
 ],
 "metadata": {
  "kernelspec": {
   "display_name": "Python 3 (ipykernel)",
   "language": "python",
   "name": "python3"
  },
  "language_info": {
   "codemirror_mode": {
    "name": "ipython",
    "version": 3
   },
   "file_extension": ".py",
   "mimetype": "text/x-python",
   "name": "python",
   "nbconvert_exporter": "python",
   "pygments_lexer": "ipython3",
   "version": "3.9.12"
  }
 },
 "nbformat": 4,
 "nbformat_minor": 5
}
