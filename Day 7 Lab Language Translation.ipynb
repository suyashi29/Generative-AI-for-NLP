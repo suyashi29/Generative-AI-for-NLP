{
 "cells": [
  {
   "cell_type": "markdown",
   "id": "9bebe2a6",
   "metadata": {},
   "source": [
    "## Question:\n",
    "\n",
    "## Create a Language translation model where user can select options for 1. Hindi 2. German and accordingly output will be printed\n",
    "\n",
    "\n",
    "\n",
    "## Steps\n",
    "\n",
    "- transformers: The Hugging Face library containing various pretrained Transformer models.\n",
    "- torch: PyTorch, which is the backend for the models.\n",
    "#Function translate:\n",
    "\n",
    "- Takes text and target_language as inputs.\n",
    "- Loads the appropriate pretrained model and tokenizer based on the selected target language.\n",
    "- Prepares the input text using the tokenizer.\n",
    "- Generates the translation using the model.\n",
    "- Decodes the generated tokens back into a human-readable string.\n"
   ]
  },
  {
   "cell_type": "code",
   "execution_count": null,
   "id": "8ea00cf5",
   "metadata": {},
   "outputs": [],
   "source": [
    "from transformers import MarianMTModel, MarianTokenizer\n",
    "\n",
    "# Function to perform translation\n",
    "def translate(text, target_language):\n",
    "    if target_language == \"Hindi\":\n",
    "        model_name = \"Helsinki-NLP/opus-mt-en-hi\"\n",
    "    elif target_language == \"German\":\n",
    "        model_name = \"Helsinki-NLP/opus-mt-en-de\"\n",
    "    else:\n",
    "        raise ValueError(\"Unsupported language. Please choose 'Hindi' or 'German'.\")\n",
    "\n",
    "    # Load model and tokenizer\n",
    "    model = MarianMTModel.from_pretrained(model_name)\n",
    "    tokenizer = MarianTokenizer.from_pretrained(model_name)\n",
    "\n",
    "    # Prepare text for the model\n",
    "    inputs = tokenizer(text, return_tensors=\"pt\", padding=True)\n",
    "\n",
    "    # Generate translation\n",
    "    translated = model.generate(**inputs)\n",
    "    translated_text = tokenizer.batch_decode(translated, skip_special_tokens=True)[0]\n",
    "\n",
    "    return translated_text\n",
    "\n",
    "# Example usage\n",
    "if __name__ == \"__main__\":\n",
    "    text = input(\"Enter the text to be translated: \")\n",
    "    language = input(\"Enter the target language (Hindi/German): \")\n",
    "    \n",
    "    try:\n",
    "        translated_text = translate(text, language)\n",
    "        print(f\"Translated text: {translated_text}\")\n",
    "    except ValueError as e:\n",
    "        print(e)\n"
   ]
  }
 ],
 "metadata": {
  "kernelspec": {
   "display_name": "Python 3 (ipykernel)",
   "language": "python",
   "name": "python3"
  },
  "language_info": {
   "codemirror_mode": {
    "name": "ipython",
    "version": 3
   },
   "file_extension": ".py",
   "mimetype": "text/x-python",
   "name": "python",
   "nbconvert_exporter": "python",
   "pygments_lexer": "ipython3",
   "version": "3.9.12"
  }
 },
 "nbformat": 4,
 "nbformat_minor": 5
}
